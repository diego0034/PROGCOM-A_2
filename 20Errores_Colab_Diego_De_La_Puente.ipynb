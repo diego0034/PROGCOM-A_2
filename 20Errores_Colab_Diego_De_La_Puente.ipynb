{
  "nbformat": 4,
  "nbformat_minor": 0,
  "metadata": {
    "colab": {
      "provenance": [],
      "collapsed_sections": []
    },
    "kernelspec": {
      "name": "python3",
      "display_name": "Python 3"
    },
    "language_info": {
      "name": "python"
    }
  },
  "cells": [
    {
      "cell_type": "markdown",
      "source": [
        "#20 cosas que se hacen en python pero no se pueden ejecutar en colab\n",
        "\n"
      ],
      "metadata": {
        "id": "vYkjAcMzB_Zu"
      }
    },
    {
      "cell_type": "markdown",
      "source": [
        "1- Usar varias cuentas para eludir las restricciones de acceso o de uso de recursos.\n",
        "\n",
        "2- Crear ultrafalsos.\n",
        "\n",
        "3- Ejecutar ataques de denegación de servicio.\n",
        "\n",
        "4- Craquear contraseñas.\n",
        "\n",
        "5- Contenido compartido puedes ser modificado al mismo tiempo, es decir, alguno podría alterar el programa mientras están todos allí.\n",
        "\n",
        "6- Necesario tener una GPU de google para programar.\n",
        "\n",
        "7- Usar un escritorio remoto o SSH.\n",
        "\n",
        "8- Conectarse a proxies remotos.\n",
        "\n",
        "9- Minar criptomonedas.\n",
        "\n",
        "10- Número máximo de operaciones por usuario y por archivo, y cuotas de ancho de banda.\n",
        "\n",
        "11- Colab necesita tener flexibilidad para ajustar dinámicamente los límites de uso y la disponibilidad de hardware.\n",
        "\n",
        "12- No se ejecutan algunos entornos de programación.\n",
        "\n",
        "13- Cuota de almacenamiento limitada.\n",
        "\n",
        "14- Las operaciones de Google Drive pueden agotar el tiempo de espera cuando el número de archivos o subcarpetas de una carpeta se vuelve demasiado grande, sin superar el límite necesariamente.\n",
        "\n",
        "15- NO poder graficar o identificar algún tipo de librería importada\n",
        "16- No se puede ejercutar sin conexión.\n",
        "\n",
        "17- Error al guardar información pasada y no permite llamar alguna variable, o arroja error, luego, se debe desconectar el entorno de ejecución.\n",
        "\n",
        "18- Pérdida de información en caso de algún fallo con la red o apagón.\n",
        "\n",
        "19-  Alojar archivos, servir contenido multimedia u ofrecer otros servicios web que no estén relacionados con la computación interactiva de Colab.\n",
        "\n",
        "20- Descargar torrents o compartir archivos de punto a punto."
      ],
      "metadata": {
        "id": "0yHYQ9XT72-m"
      }
    }
  ]
}