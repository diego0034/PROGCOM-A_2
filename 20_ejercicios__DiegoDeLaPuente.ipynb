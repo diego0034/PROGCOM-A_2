{
  "nbformat": 4,
  "nbformat_minor": 0,
  "metadata": {
    "colab": {
      "provenance": []
    },
    "kernelspec": {
      "name": "python3",
      "display_name": "Python 3"
    },
    "language_info": {
      "name": "python"
    }
  },
  "cells": [
    {
      "cell_type": "markdown",
      "source": [
        "1- MAYOR 2"
      ],
      "metadata": {
        "id": "gvULI88FA7l0"
      }
    },
    {
      "cell_type": "code",
      "source": [
        "def mayor(a,b):\n",
        "  if a>b:\n",
        "    print(f\"{a} es el mayor\")\n",
        "  else:\n",
        "    print(b,\"es el mayor\")\n",
        "mayor(4,9)"
      ],
      "metadata": {
        "colab": {
          "base_uri": "https://localhost:8080/"
        },
        "id": "FxJqQZInAxat",
        "outputId": "d1a89e81-2b03-4009-ddf6-53b6b8aecd3b"
      },
      "execution_count": 131,
      "outputs": [
        {
          "output_type": "stream",
          "name": "stdout",
          "text": [
            "9 es el mayor\n"
          ]
        }
      ]
    },
    {
      "cell_type": "markdown",
      "source": [
        "2- MAYOR 3"
      ],
      "metadata": {
        "id": "vlCFJELOBGUj"
      }
    },
    {
      "cell_type": "code",
      "source": [
        "def mayor(a,b,c):\n",
        " if a!=b and a!=c and b!=c:\n",
        "   if a>b and a>c:\n",
        "    print(a,\"es el mayor\")\n",
        "\n",
        "   if b>a and b>c:\n",
        "    print(b,\"es el mayor\")\n",
        "    \n",
        "   if c>a and c>b: \n",
        "    print(c,\"es el mayor\")\n",
        "\n",
        " else:\n",
        "  print(\"No se puede \")\n",
        "\n",
        "mayor(2,4,1)"
      ],
      "metadata": {
        "colab": {
          "base_uri": "https://localhost:8080/"
        },
        "id": "hECjtGFXBKvr",
        "outputId": "6ae2b6e1-a900-4870-ad70-200d0e4ae142"
      },
      "execution_count": 134,
      "outputs": [
        {
          "output_type": "stream",
          "name": "stdout",
          "text": [
            "4 es el mayor\n"
          ]
        }
      ]
    },
    {
      "cell_type": "markdown",
      "source": [
        "3-  SUMA 3 NÚMEROS"
      ],
      "metadata": {
        "id": "7tSIHGjJqNMC"
      }
    },
    {
      "cell_type": "code",
      "source": [
        "def sumatotal(suma3):\n",
        "  total=suma4[0] + suma4[1] + suma4[2] \n",
        "  print(total)\n",
        "\n",
        "suma3=[30,10,6]\n",
        "sumatotal(suma3)"
      ],
      "metadata": {
        "colab": {
          "base_uri": "https://localhost:8080/"
        },
        "id": "YeMKFqsEqMaq",
        "outputId": "5c17729c-7b5f-4ddc-ead0-4cd4711bee4e"
      },
      "execution_count": 45,
      "outputs": [
        {
          "output_type": "stream",
          "name": "stdout",
          "text": [
            "46\n"
          ]
        }
      ]
    },
    {
      "cell_type": "markdown",
      "source": [
        "4- SUMA 4 NÚMEROS"
      ],
      "metadata": {
        "id": "2H_sETyvqqsa"
      }
    },
    {
      "cell_type": "code",
      "source": [
        "def sumatotal(suma4):\n",
        "  total=suma4[0] + suma4[1] + suma4[2] + suma4[3] \n",
        "  print(total)\n",
        "\n",
        "suma4=[30,10,6,5]\n",
        "sumatotal(suma4)"
      ],
      "metadata": {
        "colab": {
          "base_uri": "https://localhost:8080/"
        },
        "id": "W4U9Jzptqu1y",
        "outputId": "d6219ad5-29ea-413f-c773-14b847822eba"
      },
      "execution_count": 44,
      "outputs": [
        {
          "output_type": "stream",
          "name": "stdout",
          "text": [
            "51\n"
          ]
        }
      ]
    },
    {
      "cell_type": "markdown",
      "source": [
        "5- SUMA TODOS LOS NÚMEROS"
      ],
      "metadata": {
        "id": "yHjA9bx_sHPT"
      }
    },
    {
      "cell_type": "code",
      "source": [
        "# otro modo mas sencillo (modo 1) Diego\n",
        "def sumatotal(suman):\n",
        "  a=len(suman)\n",
        "  total=0\n",
        "  for i in range(0,a):\n",
        "   total= total + suman[i]\n",
        "  print(\"Modo 1\", total)\n",
        "\n",
        "suman=[20,30,10,6,5,3,3,3,8,9,5,2,5,2,4,7,7,7,7,7,7,7,7,6]\n",
        "sumatotal(suman)\n",
        "\n",
        "# otro modo mas sencillo (modo 2) Sensei\n",
        "def sumatotal(suman):\n",
        "  total=0\n",
        "  for i in suman:\n",
        "   total= total + i\n",
        "  print(\"Modo 2\", total)\n",
        "\n",
        "suman=[20,30,10,6,5,3,3,3,8,9,5,2,5,2,4,7,7,7,7,7,7,7,7,6]\n",
        "sumatotal(suman)"
      ],
      "metadata": {
        "id": "VJbwe4b3sLjj",
        "colab": {
          "base_uri": "https://localhost:8080/"
        },
        "outputId": "f6bcc526-f237-4c7d-8467-5a75d49d840a"
      },
      "execution_count": 64,
      "outputs": [
        {
          "output_type": "stream",
          "name": "stdout",
          "text": [
            "Modo 1 177\n",
            "Modo 2 177\n"
          ]
        }
      ]
    },
    {
      "cell_type": "markdown",
      "source": [
        "6- MULTIPLICACIÓN 3 NÚMEROS"
      ],
      "metadata": {
        "id": "x_h9YJi7ykKp"
      }
    },
    {
      "cell_type": "code",
      "source": [
        "def multiplicacióntotal(m3):\n",
        "  total=m3[0] * m3[1] * m3[2] \n",
        "  print(total)\n",
        "\n",
        "m3=[2,10,6]\n",
        "multiplicacióntotal(m3)"
      ],
      "metadata": {
        "colab": {
          "base_uri": "https://localhost:8080/"
        },
        "id": "_hz33-Sey45h",
        "outputId": "e24e0a59-6c4b-489d-e430-0b872f7161a0"
      },
      "execution_count": 68,
      "outputs": [
        {
          "output_type": "stream",
          "name": "stdout",
          "text": [
            "120\n"
          ]
        }
      ]
    },
    {
      "cell_type": "markdown",
      "source": [
        "7- MULTIPLICACIÓN 4 NÚMEROS"
      ],
      "metadata": {
        "id": "y64H54b3zlEI"
      }
    },
    {
      "cell_type": "code",
      "source": [
        "def multiplicacióntotal(m4):\n",
        "  total= m4[0] * m4[1] * m4[2] * m4[3]\n",
        "  print(total)\n",
        "\n",
        "m4=[2,10,6,0]\n",
        "multiplicacióntotal(m4)"
      ],
      "metadata": {
        "colab": {
          "base_uri": "https://localhost:8080/"
        },
        "id": "aBJaw4iGziYA",
        "outputId": "72762eda-f7e0-46ba-fd3c-f902c04fb9e7"
      },
      "execution_count": 71,
      "outputs": [
        {
          "output_type": "stream",
          "name": "stdout",
          "text": [
            "0\n"
          ]
        }
      ]
    },
    {
      "cell_type": "markdown",
      "source": [
        "8- MULTIPLICACIÓN DE TODOS LOS NÚMEROS"
      ],
      "metadata": {
        "id": "uRmfO4L60P7x"
      }
    },
    {
      "cell_type": "code",
      "source": [
        "def multiplicacióntotal(mn):\n",
        "  total=1\n",
        "  for i in mn:\n",
        "   total= total * i\n",
        "  print(total)\n",
        "\n",
        "mn=[20,7,5]\n",
        "multiplicacióntotal(mn)"
      ],
      "metadata": {
        "colab": {
          "base_uri": "https://localhost:8080/"
        },
        "id": "s7vFMYbs0UH3",
        "outputId": "e341e075-a1d2-4511-c019-26ce77c3b474"
      },
      "execution_count": 77,
      "outputs": [
        {
          "output_type": "stream",
          "name": "stdout",
          "text": [
            "700\n"
          ]
        }
      ]
    },
    {
      "cell_type": "markdown",
      "source": [
        "9- INVERTIR UN STR"
      ],
      "metadata": {
        "id": "O1PVKNjk1CqJ"
      }
    },
    {
      "cell_type": "code",
      "source": [
        "def invertir(p):\n",
        "  x=len(p)\n",
        "  x=p[x::-1]\n",
        "  print(x)\n",
        "\n",
        "p=str(input(\"Escibre algo\"))\n",
        "invertir(p)"
      ],
      "metadata": {
        "colab": {
          "base_uri": "https://localhost:8080/"
        },
        "id": "mKs_45ML1G1Z",
        "outputId": "f212fd4e-98e9-4404-c14a-9bb3f1af8464"
      },
      "execution_count": 86,
      "outputs": [
        {
          "output_type": "stream",
          "name": "stdout",
          "text": [
            "Escibre algoMUNDIAL EN QATAR\n",
            "RATAQ NE LAIDNUM\n"
          ]
        }
      ]
    },
    {
      "cell_type": "markdown",
      "source": [
        "10- CALCULO FACTORIAL"
      ],
      "metadata": {
        "id": "n1wtIpPt2vIm"
      }
    },
    {
      "cell_type": "code",
      "source": [
        "def factorial(n):\n",
        "  factorial=1\n",
        "  for i in range(1,n+1):\n",
        "   factorial= factorial * i\n",
        "  print(\"Factorial es:\" ,factorial)\n",
        "\n",
        "\n",
        "n=int(input(\"Escibre un numero\"))\n",
        "factorial(n)"
      ],
      "metadata": {
        "colab": {
          "base_uri": "https://localhost:8080/"
        },
        "id": "WAWMLnAJ2t5_",
        "outputId": "fa4baf5f-56a2-4624-aa7e-aa7449b15233"
      },
      "execution_count": 104,
      "outputs": [
        {
          "output_type": "stream",
          "name": "stdout",
          "text": [
            "Escibre un numero5\n",
            "Factorial es: 120\n"
          ]
        }
      ]
    },
    {
      "cell_type": "markdown",
      "source": [
        "11- NÚMERO DENTRO DE UN RANGO"
      ],
      "metadata": {
        "id": "1Q27KLTY6Ep5"
      }
    },
    {
      "cell_type": "code",
      "source": [
        "def RANGO(número,a,b):\n",
        " if a<=número and número<=b:\n",
        "   print(número,\"SI esta dentro del rango\")\n",
        " else:\n",
        "   print(número,\"NO esta dentro del rango\")\n",
        "\n",
        "número=int(input(\"ingrese un número\"))\n",
        "print(\"Ahora da el rango \")\n",
        "a=int(input(\"De: \"))\n",
        "b=int(input(\"a: \"))\n",
        "\n",
        "RANGO(número,a,b)"
      ],
      "metadata": {
        "colab": {
          "base_uri": "https://localhost:8080/"
        },
        "id": "6xrjembm6Tig",
        "outputId": "368ebb03-c4e2-45d9-f059-15c8387eb9b9"
      },
      "execution_count": 125,
      "outputs": [
        {
          "output_type": "stream",
          "name": "stdout",
          "text": [
            "ingrese un número5\n",
            "Ahora da el rango \n",
            "De: 8\n",
            "a: 10\n",
            "5 NO esta dentro del rango\n"
          ]
        }
      ]
    },
    {
      "cell_type": "markdown",
      "source": [
        "14- SOLO PARES"
      ],
      "metadata": {
        "id": "skVNZTlc6T3g"
      }
    },
    {
      "cell_type": "code",
      "source": [
        "def totalpares(pares):\n",
        "  w=len(pares)\n",
        "  for i in range(0,w):\n",
        "    if pares[i]%2==0: \n",
        "       print(pares[i])\n",
        "\n",
        "pares=[20,2,8,5]\n",
        "totalpares(pares)"
      ],
      "metadata": {
        "colab": {
          "base_uri": "https://localhost:8080/"
        },
        "id": "NfGdwZxW6hbv",
        "outputId": "3f3afe85-4a4c-4bd3-9036-c65143efda56"
      },
      "execution_count": 120,
      "outputs": [
        {
          "output_type": "stream",
          "name": "stdout",
          "text": [
            "20\n",
            "2\n",
            "8\n"
          ]
        }
      ]
    },
    {
      "cell_type": "markdown",
      "source": [
        "15- POSICIÓN IMPAR"
      ],
      "metadata": {
        "id": "yyUZ5qZe9Ton"
      }
    },
    {
      "cell_type": "code",
      "source": [
        "def totalimpares(impares):\n",
        "  w=len(impares)\n",
        "  totalimpare=0\n",
        "  for i in range(0,w,2):\n",
        "    print(impares[i])\n",
        "\n",
        "impares=[20,7,8,5,9,8,50]\n",
        "totalimpares(impares)"
      ],
      "metadata": {
        "colab": {
          "base_uri": "https://localhost:8080/"
        },
        "id": "ot3O-xKK8cbJ",
        "outputId": "9d806c9a-5071-43af-a837-9d285f97dda8"
      },
      "execution_count": 117,
      "outputs": [
        {
          "output_type": "stream",
          "name": "stdout",
          "text": [
            "20\n",
            "8\n",
            "9\n"
          ]
        }
      ]
    },
    {
      "cell_type": "markdown",
      "source": [
        "17- PALABRA PALÍNDROMO"
      ],
      "metadata": {
        "id": "lp49_71j_-IJ"
      }
    },
    {
      "cell_type": "code",
      "source": [
        "def invertir(p):\n",
        "  x=len(p)\n",
        "  x=p[x::-1]\n",
        "  if p==x:\n",
        "    print(\"Es palíndromo\")\n",
        "  else:\n",
        "    print(\"No es palíndromo\")\n",
        "\n",
        "p=str(input(\"Escibre una palabra\"))\n",
        "invertir(p)"
      ],
      "metadata": {
        "colab": {
          "base_uri": "https://localhost:8080/"
        },
        "id": "j7zvJ1-rAD4A",
        "outputId": "3455bae3-e147-43b1-81dd-3e02995bb1c6"
      },
      "execution_count": 128,
      "outputs": [
        {
          "output_type": "stream",
          "name": "stdout",
          "text": [
            "Escibre una palabraDiego\n",
            "No es palíndromo\n"
          ]
        }
      ]
    }
  ]
}