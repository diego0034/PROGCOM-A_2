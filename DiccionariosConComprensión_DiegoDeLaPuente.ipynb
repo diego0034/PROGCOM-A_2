{
  "nbformat": 4,
  "nbformat_minor": 0,
  "metadata": {
    "colab": {
      "provenance": []
    },
    "kernelspec": {
      "name": "python3",
      "display_name": "Python 3"
    },
    "language_info": {
      "name": "python"
    }
  },
  "cells": [
    {
      "cell_type": "code",
      "source": [
        "def cantidades_vendidad(artículos):\n",
        " artículos_repetidos = {vendidos.lower(): artículos.get(vendidos.lower(), 0) + artículos.get(vendidos.upper(), 0) \n",
        "                        for vendidos in artículos.keys()}\n",
        " print(artículos_repetidos)\n",
        "\n",
        "artículos= {\"lápiz\": 4, \"LÁPIZ\": 8, \"sacapuntas\": 8, \"SACAPUNTAS\":4, \"BORRADOR\": 3, \"borrador\":3}\n",
        "cantidades_vendidad(artículos)"
      ],
      "metadata": {
        "colab": {
          "base_uri": "https://localhost:8080/"
        },
        "id": "9apAVPHC5TnQ",
        "outputId": "ab395736-267e-4a1e-a3b3-5c8fdb5a4356"
      },
      "execution_count": 65,
      "outputs": [
        {
          "output_type": "stream",
          "name": "stdout",
          "text": [
            "{'lápiz': 12, 'sacapuntas': 12, 'borrador': 6}\n"
          ]
        }
      ]
    },
    {
      "cell_type": "markdown",
      "source": [
        "**.get():** Devuelve el valor correspondiente a la clave especificada.\n",
        "\n",
        "**.keys:** Devuelve un objeto de vista que muestra una lista de todas las claves en el diccionario."
      ],
      "metadata": {
        "id": "eXmZgIDf7pOh"
      }
    },
    {
      "cell_type": "markdown",
      "source": [],
      "metadata": {
        "id": "3RtaOD0x55cm"
      }
    }
  ]
}