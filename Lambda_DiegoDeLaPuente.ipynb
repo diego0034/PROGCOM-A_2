{
  "nbformat": 4,
  "nbformat_minor": 0,
  "metadata": {
    "colab": {
      "provenance": []
    },
    "kernelspec": {
      "name": "python3",
      "display_name": "Python 3"
    },
    "language_info": {
      "name": "python"
    }
  },
  "cells": [
    {
      "cell_type": "markdown",
      "source": [
        "#LAMBDA O FUNCIÓNES ANÓNIMAS\n",
        "\n",
        "> - Para funciones pequeñas de fácil acceso y rapidas\n",
        "- Puede contener **varios** argumentos, pero solo una expresión.\n",
        "\n",
        "Definiendo lambda:\n",
        "\n",
        "lambda(párametro): expresión"
      ],
      "metadata": {
        "id": "Gm5HSPdJ9VY-"
      }
    },
    {
      "cell_type": "code",
      "execution_count": null,
      "metadata": {
        "id": "eXCQxT2khY-R",
        "colab": {
          "base_uri": "https://localhost:8080/"
        },
        "outputId": "33afad39-74de-4bd6-bf47-78bff202fdb9"
      },
      "outputs": [
        {
          "output_type": "execute_result",
          "data": {
            "text/plain": [
              "[9, 49, 36, 81]"
            ]
          },
          "metadata": {},
          "execution_count": 46
        }
      ],
      "source": [
        "#Función que eleve al cuadrado todos los elementos de una lista.\n",
        "lista=[3,7,6,9]\n",
        "#Por comprensión\n",
        "lista2=[n**2 for n in lista]\n",
        "lista2"
      ]
    },
    {
      "cell_type": "code",
      "source": [
        "#Por funcion forma 1\n",
        "def elevar(entrada):\n",
        "  for i in entrada:\n",
        "    print(i*i)\n",
        "\n",
        "entrada=[3,7,6,9]\n",
        "elevar(entrada)\n",
        "\n",
        "#Por funcion forma 2\n",
        "def elevar2(entrada2):\n",
        "  listas2=[i**2 for i in entrada2]\n",
        "  print(listas2)\n",
        "\n",
        "entrada2=[3,7,6,9]\n",
        "elevar2(entrada2)"
      ],
      "metadata": {
        "colab": {
          "base_uri": "https://localhost:8080/"
        },
        "id": "KEsl-ckd-SCx",
        "outputId": "6a0ac692-12f2-4a5a-b548-b435543876bd"
      },
      "execution_count": null,
      "outputs": [
        {
          "output_type": "stream",
          "name": "stdout",
          "text": [
            "9\n",
            "49\n",
            "36\n",
            "81\n",
            "[9, 49, 36, 81]\n"
          ]
        }
      ]
    },
    {
      "cell_type": "code",
      "source": [
        "lambda1=lambda x,y:x**y\n",
        "lambda1(2,4)"
      ],
      "metadata": {
        "colab": {
          "base_uri": "https://localhost:8080/"
        },
        "id": "NQLMAOu8AKgu",
        "outputId": "88a1191e-7d56-459f-d879-f92b28eca692"
      },
      "execution_count": null,
      "outputs": [
        {
          "output_type": "execute_result",
          "data": {
            "text/plain": [
              "16"
            ]
          },
          "metadata": {},
          "execution_count": 36
        }
      ]
    },
    {
      "cell_type": "code",
      "source": [
        "lambda1=lambda x:x**2\n",
        "lambda1(2)"
      ],
      "metadata": {
        "colab": {
          "base_uri": "https://localhost:8080/"
        },
        "id": "uEy5vBDuAm-d",
        "outputId": "2ff91bf6-08ec-4f11-babf-72f05638de81"
      },
      "execution_count": null,
      "outputs": [
        {
          "output_type": "execute_result",
          "data": {
            "text/plain": [
              "4"
            ]
          },
          "metadata": {},
          "execution_count": 37
        }
      ]
    },
    {
      "cell_type": "code",
      "source": [
        "lambda3=lambda num:True if num**2>=0 else False\n",
        "lambda3(4)"
      ],
      "metadata": {
        "colab": {
          "base_uri": "https://localhost:8080/"
        },
        "id": "ApiO66dBBGmr",
        "outputId": "3b0125d7-a3ce-4839-ef39-6499e2318ba7"
      },
      "execution_count": null,
      "outputs": [
        {
          "output_type": "execute_result",
          "data": {
            "text/plain": [
              "True"
            ]
          },
          "metadata": {},
          "execution_count": 38
        }
      ]
    },
    {
      "cell_type": "code",
      "source": [
        "lambda3(3)"
      ],
      "metadata": {
        "colab": {
          "base_uri": "https://localhost:8080/"
        },
        "id": "Z4qDGq6NBlvw",
        "outputId": "86d020c5-8ddd-4abd-f532-07809372f37e"
      },
      "execution_count": null,
      "outputs": [
        {
          "output_type": "execute_result",
          "data": {
            "text/plain": [
              "True"
            ]
          },
          "metadata": {},
          "execution_count": 39
        }
      ]
    },
    {
      "cell_type": "code",
      "source": [
        "lambda3=lambda num:True if num%2>=0 else False\n",
        "lambda3(4)"
      ],
      "metadata": {
        "colab": {
          "base_uri": "https://localhost:8080/"
        },
        "id": "86LQYghIBtQQ",
        "outputId": "85f5f451-57f8-4e68-c4af-92e67852b542"
      },
      "execution_count": null,
      "outputs": [
        {
          "output_type": "execute_result",
          "data": {
            "text/plain": [
              "True"
            ]
          },
          "metadata": {},
          "execution_count": 40
        }
      ]
    },
    {
      "cell_type": "code",
      "source": [
        "letras={\"A\":9,\"B\":4,\"C\":6}\n",
        "sorted(letras,key=lambda x:letras[x]%3)#No elimina, solo ordena"
      ],
      "metadata": {
        "colab": {
          "base_uri": "https://localhost:8080/"
        },
        "id": "L8TVHXI3CvdX",
        "outputId": "250e6080-e38f-48d0-a0b0-a4457bd8c75c"
      },
      "execution_count": null,
      "outputs": [
        {
          "output_type": "execute_result",
          "data": {
            "text/plain": [
              "['A', 'C', 'B']"
            ]
          },
          "metadata": {},
          "execution_count": 41
        }
      ]
    },
    {
      "cell_type": "code",
      "source": [
        "import random\n",
        "mlista=[1,2,3,4,5,6,7,8,9,10]\n",
        "filtrado=[n for n in mlista if n%2!=0]\n",
        "filtrado"
      ],
      "metadata": {
        "colab": {
          "base_uri": "https://localhost:8080/"
        },
        "id": "SoAiuMwzENed",
        "outputId": "f1dcdc53-01ed-444e-d463-19f2ccf7eaf8"
      },
      "execution_count": null,
      "outputs": [
        {
          "output_type": "execute_result",
          "data": {
            "text/plain": [
              "[1, 3, 5, 7, 9]"
            ]
          },
          "metadata": {},
          "execution_count": 42
        }
      ]
    },
    {
      "cell_type": "code",
      "source": [
        "mlista2=[n for n in range (1,11)]\n",
        "mlista2"
      ],
      "metadata": {
        "colab": {
          "base_uri": "https://localhost:8080/"
        },
        "id": "OEhjmgycFua4",
        "outputId": "1e34e387-024b-4d8c-be50-e650f22a884b"
      },
      "execution_count": null,
      "outputs": [
        {
          "output_type": "execute_result",
          "data": {
            "text/plain": [
              "[1, 2, 3, 4, 5, 6, 7, 8, 9, 10]"
            ]
          },
          "metadata": {},
          "execution_count": 43
        }
      ]
    },
    {
      "cell_type": "markdown",
      "source": [
        "##Funciones de orden superior\n",
        "1. MAP \n",
        "La función se aplica a cada elemento de la lista\n",
        "\n",
        "map(una_funcion, una_lista)"
      ],
      "metadata": {
        "id": "tZK2snHaGhTt"
      }
    },
    {
      "cell_type": "code",
      "source": [
        "cuadrados=[]#Creando una lista vacia\n",
        "for i in lista:\n",
        "  cuadrados.append(i**2)\n",
        "print(cuadrados)"
      ],
      "metadata": {
        "colab": {
          "base_uri": "https://localhost:8080/"
        },
        "id": "InNO4iVOG8CD",
        "outputId": "e9853a7a-f02f-4cb2-94f6-32603d4e624b"
      },
      "execution_count": null,
      "outputs": [
        {
          "output_type": "stream",
          "name": "stdout",
          "text": [
            "[9, 49, 36, 81]\n"
          ]
        }
      ]
    },
    {
      "cell_type": "code",
      "source": [
        "cuadrado2=[x**2 for x in lista]#Con comprension\n",
        "cuadrado2"
      ],
      "metadata": {
        "colab": {
          "base_uri": "https://localhost:8080/"
        },
        "id": "FJ6Z6yg_IRw1",
        "outputId": "5264cf0b-f093-4173-dc39-9e49ef9a073c"
      },
      "execution_count": null,
      "outputs": [
        {
          "output_type": "execute_result",
          "data": {
            "text/plain": [
              "[9, 49, 36, 81]"
            ]
          },
          "metadata": {},
          "execution_count": 49
        }
      ]
    },
    {
      "cell_type": "code",
      "source": [
        "cuadrado3=list(map(lambda x: x**2, lista))\n",
        "cuadrado3"
      ],
      "metadata": {
        "colab": {
          "base_uri": "https://localhost:8080/"
        },
        "id": "cguJ-c_2Ip6U",
        "outputId": "ed479d10-a3b8-4ed0-8098-44475a94c6be"
      },
      "execution_count": null,
      "outputs": [
        {
          "output_type": "execute_result",
          "data": {
            "text/plain": [
              "[9, 49, 36, 81]"
            ]
          },
          "metadata": {},
          "execution_count": 51
        }
      ]
    },
    {
      "cell_type": "markdown",
      "source": [
        "#2. FILTER\n",
        "filtrar. Si se cumple la condición devuelve un\n",
        "True\n",
        "\n",
        "se define: filter(una_función,una_lista)"
      ],
      "metadata": {
        "id": "9owCG7tjJ4tN"
      }
    },
    {
      "cell_type": "code",
      "source": [
        "valores=[num for num in range(1,10)]\n",
        "pares=[]\n",
        "for valor in valores:\n",
        "  if valor%2==0:\n",
        "    pares.append(valor)\n",
        "print(pares)"
      ],
      "metadata": {
        "colab": {
          "base_uri": "https://localhost:8080/"
        },
        "id": "Oajs0ZfmJ0kk",
        "outputId": "672df867-91c1-4dd6-beea-c6d0aa37135e"
      },
      "execution_count": null,
      "outputs": [
        {
          "output_type": "stream",
          "name": "stdout",
          "text": [
            "[2, 4, 6, 8]\n"
          ]
        }
      ]
    },
    {
      "cell_type": "code",
      "source": [
        "valor2=[lol for lol in valores if lol%2==0]\n",
        "valor2"
      ],
      "metadata": {
        "colab": {
          "base_uri": "https://localhost:8080/"
        },
        "id": "Aau5fkcyKhyU",
        "outputId": "ae31b32b-816d-4cb7-8c64-73355d8486d8"
      },
      "execution_count": null,
      "outputs": [
        {
          "output_type": "execute_result",
          "data": {
            "text/plain": [
              "[2, 4, 6, 8]"
            ]
          },
          "metadata": {},
          "execution_count": 57
        }
      ]
    },
    {
      "cell_type": "code",
      "source": [
        "valor3=list(filter(lambda julito: julito%2==0, valores))\n",
        "valor3"
      ],
      "metadata": {
        "colab": {
          "base_uri": "https://localhost:8080/"
        },
        "id": "wCCXtZUELXQ0",
        "outputId": "5519b628-9f7f-4c31-b54a-2e6b7bdee000"
      },
      "execution_count": null,
      "outputs": [
        {
          "output_type": "execute_result",
          "data": {
            "text/plain": [
              "[2, 4, 6, 8]"
            ]
          },
          "metadata": {},
          "execution_count": 58
        }
      ]
    },
    {
      "cell_type": "markdown",
      "source": [
        "#3. Reduce\n",
        "Es un acumulador \n",
        "**Para usar REDUCE se debe importar el módulo functools**"
      ],
      "metadata": {
        "id": "bONhWnnNL8Ir"
      }
    },
    {
      "cell_type": "code",
      "source": [
        "from functools import reduce\n",
        "def suma(lista):\n",
        "  suma=0\n",
        "  for i in lista:\n",
        "    suma=suma+i #suma+=i \n",
        "    return suma\n",
        "suma(valores)"
      ],
      "metadata": {
        "colab": {
          "base_uri": "https://localhost:8080/"
        },
        "id": "sOjvIqHFL7kD",
        "outputId": "815d9ab8-52af-48cc-de12-8c0b28590d65"
      },
      "execution_count": null,
      "outputs": [
        {
          "output_type": "execute_result",
          "data": {
            "text/plain": [
              "1"
            ]
          },
          "metadata": {},
          "execution_count": 66
        }
      ]
    },
    {
      "cell_type": "code",
      "source": [
        "suma1=reduce(lambda x,y:+y, valores)\n",
        "suma1"
      ],
      "metadata": {
        "colab": {
          "base_uri": "https://localhost:8080/"
        },
        "id": "2fduRZ-4OCXV",
        "outputId": "98132038-7754-4f72-f75c-ae54c4b9c128"
      },
      "execution_count": null,
      "outputs": [
        {
          "output_type": "execute_result",
          "data": {
            "text/plain": [
              "9"
            ]
          },
          "metadata": {},
          "execution_count": 67
        }
      ]
    },
    {
      "cell_type": "code",
      "source": [
        "letras.values()"
      ],
      "metadata": {
        "colab": {
          "base_uri": "https://localhost:8080/"
        },
        "id": "7isr1-LSPKmK",
        "outputId": "8592665f-8cac-479c-a375-3a37c726556e"
      },
      "execution_count": null,
      "outputs": [
        {
          "output_type": "execute_result",
          "data": {
            "text/plain": [
              "dict_values([9, 4, 6])"
            ]
          },
          "metadata": {},
          "execution_count": 68
        }
      ]
    },
    {
      "cell_type": "code",
      "source": [
        "letras.keys()"
      ],
      "metadata": {
        "id": "47uWWl3sPNU6",
        "outputId": "a37d100e-7e7d-4ef6-d9f0-1179d4911b9f",
        "colab": {
          "base_uri": "https://localhost:8080/"
        }
      },
      "execution_count": null,
      "outputs": [
        {
          "output_type": "execute_result",
          "data": {
            "text/plain": [
              "dict_keys(['A', 'B', 'C'])"
            ]
          },
          "metadata": {},
          "execution_count": 69
        }
      ]
    },
    {
      "cell_type": "code",
      "source": [
        "letras.items()"
      ],
      "metadata": {
        "id": "Zhf07-PVPPeI",
        "outputId": "ab83a2d3-3fce-42c6-c967-7b11404c3f5a",
        "colab": {
          "base_uri": "https://localhost:8080/"
        }
      },
      "execution_count": null,
      "outputs": [
        {
          "output_type": "execute_result",
          "data": {
            "text/plain": [
              "dict_items([('A', 9), ('B', 4), ('C', 6)])"
            ]
          },
          "metadata": {},
          "execution_count": 70
        }
      ]
    }
  ]
}