{
  "nbformat": 4,
  "nbformat_minor": 0,
  "metadata": {
    "colab": {
      "provenance": []
    },
    "kernelspec": {
      "name": "python3",
      "display_name": "Python 3"
    },
    "language_info": {
      "name": "python"
    }
  },
  "cells": [
    {
      "cell_type": "markdown",
      "source": [
        "#POO o programación orientada a objetos\n",
        "Plantilla que describe a un conjunto de objetos con los mismos:\n",
        "- Atributos--> Variables\n",
        "- Métodos--> funciones\n",
        "- Constructor--> Constituye una clase\n",
        "- Ojetos: Comparten atributos, métodos, relaciones que tienen una identidad propia.\n",
        "- La clases arrancan con un constructor"
      ],
      "metadata": {
        "id": "icmPQZBGCFdF"
      }
    },
    {
      "cell_type": "code",
      "execution_count": null,
      "metadata": {
        "id": "eXCQxT2khY-R"
      },
      "outputs": [],
      "source": [
        "class Mascotas:\n",
        " pass"
      ]
    },
    {
      "cell_type": "code",
      "source": [
        "a=Mascotas\n",
        "b=Mascotas"
      ],
      "metadata": {
        "id": "KWFG1ohLE6GF"
      },
      "execution_count": null,
      "outputs": []
    },
    {
      "cell_type": "code",
      "source": [
        "if a==b:\n",
        "  print(\"Son iguanitos\")\n",
        "else:\n",
        "  print(\"No son iguanitos\")"
      ],
      "metadata": {
        "colab": {
          "base_uri": "https://localhost:8080/"
        },
        "id": "WC5xrd81GZRb",
        "outputId": "ea35be92-0705-4447-9bf0-9bfa98a6772b"
      },
      "execution_count": null,
      "outputs": [
        {
          "output_type": "stream",
          "name": "stdout",
          "text": [
            "Son iguanitos\n"
          ]
        }
      ]
    },
    {
      "cell_type": "code",
      "source": [
        "class Empleado():\n",
        "  #Construyendo un constructor \n",
        " def __init__(self, nombre, edad, ID, salario):\n",
        "    self.nombre=nombre\n",
        "    self.edad=edad\n",
        "    self.ID=ID\n",
        "    self.salario=salario \n",
        "  \n",
        " def __repr__(self):\n",
        "    return f\"nombre:{self.nombre}, edad:{self.edad}, ID:{self.ID}, salario:{self.salario}\""
      ],
      "metadata": {
        "id": "A4DR42uaGwFx"
      },
      "execution_count": 18,
      "outputs": []
    },
    {
      "cell_type": "code",
      "source": [
        "sonia=Empleado(\"Sonia\",25, \"U00152314\",10000000)"
      ],
      "metadata": {
        "id": "jWxopy5nHnP8"
      },
      "execution_count": 19,
      "outputs": []
    },
    {
      "cell_type": "code",
      "source": [
        "print(sonia)"
      ],
      "metadata": {
        "colab": {
          "base_uri": "https://localhost:8080/"
        },
        "id": "_R3HU4ezH-0c",
        "outputId": "840cc0d5-a1ce-42d7-8f07-1229dc5e8f72"
      },
      "execution_count": 20,
      "outputs": [
        {
          "output_type": "stream",
          "name": "stdout",
          "text": [
            "nombre:Sonia, edad:25, ID:U00152314, salario:10000000\n"
          ]
        }
      ]
    },
    {
      "cell_type": "code",
      "source": [
        "sonia.nombre"
      ],
      "metadata": {
        "colab": {
          "base_uri": "https://localhost:8080/",
          "height": 36
        },
        "id": "vNPPwZUnIQS8",
        "outputId": "a0a14e18-56ec-4829-ea22-6217e93c6088"
      },
      "execution_count": 22,
      "outputs": [
        {
          "output_type": "execute_result",
          "data": {
            "text/plain": [
              "'Sonia'"
            ],
            "application/vnd.google.colaboratory.intrinsic+json": {
              "type": "string"
            }
          },
          "metadata": {},
          "execution_count": 22
        }
      ]
    },
    {
      "cell_type": "code",
      "source": [
        "sonia.__dict__"
      ],
      "metadata": {
        "colab": {
          "base_uri": "https://localhost:8080/"
        },
        "id": "v3crQrl5IbdJ",
        "outputId": "aab900a8-1922-455d-b6a2-a94c4fb34a89"
      },
      "execution_count": 23,
      "outputs": [
        {
          "output_type": "execute_result",
          "data": {
            "text/plain": [
              "{'nombre': 'Sonia', 'edad': 25, 'ID': 'U00152314', 'salario': 10000000}"
            ]
          },
          "metadata": {},
          "execution_count": 23
        }
      ]
    },
    {
      "cell_type": "code",
      "source": [
        "madaniel=Empleado(\"Pirulais\",83,\"U001512345\",1000000)"
      ],
      "metadata": {
        "id": "UmG-M-i6NkYj"
      },
      "execution_count": 29,
      "outputs": []
    },
    {
      "cell_type": "code",
      "source": [
        "if sonia.salario==madaniel.salario:\n",
        "  print(f\" {madaniel.nombre} tiene el mismo salario que {sonia.nombre}\")\n",
        "elif sonia.salario > madaniel.salario:\n",
        "  print(f\" {sonia.nombre} gana mas que {madaniel.nombre}\")\n",
        "else:\n",
        "  print(f\" {madaniel.nombre} gana mas que {sonia.nombre}\")"
      ],
      "metadata": {
        "colab": {
          "base_uri": "https://localhost:8080/"
        },
        "id": "8NWy3-BBNzXt",
        "outputId": "ece1fece-0599-4d61-cb69-282ecbd33865"
      },
      "execution_count": 30,
      "outputs": [
        {
          "output_type": "stream",
          "name": "stdout",
          "text": [
            " Sonia gana mas que Pirulais\n"
          ]
        }
      ]
    },
    {
      "cell_type": "code",
      "source": [
        "class Fraccion:\n",
        "  #Atributos de clase\n",
        "  num=0\n",
        "  den=1\n",
        "\n",
        "  #Creando el constructor\n",
        "  def __init__(self, num, den):\n",
        "    self.num=num\n",
        "    self.den=den\n",
        "  \n",
        "  def multiplica(self,b):\n",
        "    num=self.num*b.num\n",
        "    den=self.den*b.den\n",
        "    r=Fraccion(num,den)\n",
        "    return r\n",
        "  def imprime(self):\n",
        "    print(self.num,\"/\",self.den)"
      ],
      "metadata": {
        "id": "KVtINDjpPVlQ"
      },
      "execution_count": 89,
      "outputs": []
    },
    {
      "cell_type": "code",
      "source": [
        "#creado objetos tipo Fracción\n",
        "a1=Fraccion(4,5)\n",
        "a2=Fraccion(8,9)"
      ],
      "metadata": {
        "id": "T2SRU-8bROLV"
      },
      "execution_count": 90,
      "outputs": []
    },
    {
      "cell_type": "code",
      "source": [
        "a1.imprime()\n",
        "a2.imprime()"
      ],
      "metadata": {
        "colab": {
          "base_uri": "https://localhost:8080/"
        },
        "id": "yYUiCL_0RhUl",
        "outputId": "5b8a4590-d98c-4b51-8545-83fb315f6058"
      },
      "execution_count": 91,
      "outputs": [
        {
          "output_type": "stream",
          "name": "stdout",
          "text": [
            "4 / 5\n",
            "8 / 9\n"
          ]
        }
      ]
    },
    {
      "cell_type": "code",
      "source": [
        "c=a1.multiplica(a2)\n",
        "c.imprime()"
      ],
      "metadata": {
        "colab": {
          "base_uri": "https://localhost:8080/"
        },
        "id": "7vw9G3SsS2ZR",
        "outputId": "4cbd6076-746f-4ed3-8cd0-b920c65466b2"
      },
      "execution_count": 92,
      "outputs": [
        {
          "output_type": "stream",
          "name": "stdout",
          "text": [
            "32 / 45\n"
          ]
        }
      ]
    },
    {
      "cell_type": "code",
      "source": [
        "type(c)"
      ],
      "metadata": {
        "colab": {
          "base_uri": "https://localhost:8080/"
        },
        "id": "MvpItmdRUJP2",
        "outputId": "15c96231-498e-4884-f2e1-fa2fdb91477f"
      },
      "execution_count": 84,
      "outputs": [
        {
          "output_type": "execute_result",
          "data": {
            "text/plain": [
              "NoneType"
            ]
          },
          "metadata": {},
          "execution_count": 84
        }
      ]
    },
    {
      "cell_type": "markdown",
      "source": [
        "- potencia\n",
        "- suma \n",
        "- resta\n",
        "- division"
      ],
      "metadata": {
        "id": "BT7RWSTrUtyc"
      }
    }
  ]
}