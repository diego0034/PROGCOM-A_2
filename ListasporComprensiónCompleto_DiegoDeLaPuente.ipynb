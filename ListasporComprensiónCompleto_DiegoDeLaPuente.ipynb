{
  "nbformat": 4,
  "nbformat_minor": 0,
  "metadata": {
    "colab": {
      "provenance": [],
      "collapsed_sections": []
    },
    "kernelspec": {
      "name": "python3",
      "display_name": "Python 3"
    },
    "language_info": {
      "name": "python"
    }
  },
  "cells": [
    {
      "cell_type": "markdown",
      "source": [
        "sitaxis: nexList=[expresión(elemento) for elemento n in oldList si condición]"
      ],
      "metadata": {
        "id": "Ej-CoIzR_QKY"
      }
    },
    {
      "cell_type": "code",
      "execution_count": null,
      "metadata": {
        "id": "eXCQxT2khY-R",
        "colab": {
          "base_uri": "https://localhost:8080/"
        },
        "outputId": "a4debbd3-083e-4904-dbfc-825d9b2835e8"
      },
      "outputs": [
        {
          "output_type": "stream",
          "name": "stdout",
          "text": [
            "[2, 4, 6, 8, 10, 12, 14, 16]\n"
          ]
        }
      ],
      "source": [
        "números=[n*2 for n in range(1,9)]\n",
        "print(números)"
      ]
    },
    {
      "cell_type": "code",
      "source": [
        "cadenas=[\"*\" * n for n  in range(1,6)]\n",
        "print(cadenas)"
      ],
      "metadata": {
        "colab": {
          "base_uri": "https://localhost:8080/"
        },
        "id": "7-VSwuZ9Af1M",
        "outputId": "13927f2d-cf57-4341-b18f-f30ca07a2370"
      },
      "execution_count": null,
      "outputs": [
        {
          "output_type": "stream",
          "name": "stdout",
          "text": [
            "['*', '**', '***', '****', '*****']\n"
          ]
        }
      ]
    },
    {
      "cell_type": "markdown",
      "source": [
        "**Ventajas:**\n",
        "> - Más eficiente en tiempo y espacio que los bucles\n",
        "- Requiere menos líneas de código\n",
        "- Tranforma una declaración iterativa en una fórmula"
      ],
      "metadata": {
        "id": "xq5Vdcd4_3D2"
      }
    },
    {
      "cell_type": "code",
      "source": [
        "#Ejercicio Samuel\n",
        "x=input(\"Ingrese la palabra que desea: \")\n",
        "lista=[n for n in x]\n",
        "print(lista)"
      ],
      "metadata": {
        "colab": {
          "base_uri": "https://localhost:8080/"
        },
        "id": "mLiqv3MyDBjG",
        "outputId": "f951080d-75a9-439f-c205-19d5ac726f56"
      },
      "execution_count": null,
      "outputs": [
        {
          "output_type": "stream",
          "name": "stdout",
          "text": [
            "Ingrese la parabra que desea: HOLA\n",
            "['H', 'O', 'L', 'A']\n"
          ]
        }
      ]
    },
    {
      "cell_type": "code",
      "source": [
        "#Ejercicio Daniel Amado\n",
        "lista1=[2,7,10,9,8]\n",
        "lista2=[elementos**2 for elementos in lista1 if elementos%2==0]\n",
        "print(\"nueva lista\", lista2)"
      ],
      "metadata": {
        "colab": {
          "base_uri": "https://localhost:8080/"
        },
        "id": "EnFgLiTPDPyW",
        "outputId": "cd11e5f6-0ff7-4840-f8c5-f1e587b66b4e"
      },
      "execution_count": null,
      "outputs": [
        {
          "output_type": "stream",
          "name": "stdout",
          "text": [
            "nueva lista [4, 100, 64]\n"
          ]
        }
      ]
    },
    {
      "cell_type": "code",
      "source": [
        "#Ejercicio Iván\n",
        "import random\n",
        "capitan=[random.randrange(1,30) for i in range (9)] #randrange: Rango donde se va a generar la lista aleatoria\n",
        "print(\"Imprimir números aleatorios de la lista: \", str (capitan))"
      ],
      "metadata": {
        "colab": {
          "base_uri": "https://localhost:8080/"
        },
        "id": "gOvxrvmNEAO1",
        "outputId": "3de64d07-240a-44a7-c51f-d1f050052728"
      },
      "execution_count": null,
      "outputs": [
        {
          "output_type": "stream",
          "name": "stdout",
          "text": [
            "Imprimir números aleatorios de la lista:  [26, 8, 11, 20, 7, 18, 5, 14, 22]\n"
          ]
        }
      ]
    },
    {
      "cell_type": "code",
      "source": [
        "#Ejercicio Juan Pablo\n",
        "precios=[]\n",
        "print(\"Ingrese los numeros de los que quieres hacer un descuento\")\n",
        "det=True\n",
        "while det:\n",
        "  num=int(input(\"si no desea agregar mas números digite 0\"))\n",
        "  precios.append(num)\n",
        "  det= False if num == 0 else num>0\n",
        "  des=float(input(print(\"ingrese el descuento sin el %\")))\n",
        "  presdes=[precio*des/100 for precio in precios]\n",
        "  presdes.pop(-1)\n",
        "  print(\"Este es el valor que debes restar a cada número\", presdes)"
      ],
      "metadata": {
        "colab": {
          "base_uri": "https://localhost:8080/",
          "height": 501
        },
        "id": "4usc3-cpGHc4",
        "outputId": "e8673437-825e-4373-fa22-b7fc4cd515d5"
      },
      "execution_count": null,
      "outputs": [
        {
          "output_type": "stream",
          "name": "stdout",
          "text": [
            "Ingrese los numeros de los que quieres hacer un descuento\n",
            "si no desea agregar mas números digite 05\n",
            "ingrese el descuento sin el %\n",
            "None9\n",
            "Este es el valor que debes restar a cada número []\n",
            "si no desea agregar mas números digite 00\n",
            "ingrese el descuento sin el %\n"
          ]
        },
        {
          "output_type": "error",
          "ename": "KeyboardInterrupt",
          "evalue": "ignored",
          "traceback": [
            "\u001b[0;31m---------------------------------------------------------------------------\u001b[0m",
            "\u001b[0;31mKeyboardInterrupt\u001b[0m                         Traceback (most recent call last)",
            "\u001b[0;32m<ipython-input-31-89d71629cc75>\u001b[0m in \u001b[0;36m<module>\u001b[0;34m\u001b[0m\n\u001b[1;32m      7\u001b[0m   \u001b[0mprecios\u001b[0m\u001b[0;34m.\u001b[0m\u001b[0mappend\u001b[0m\u001b[0;34m(\u001b[0m\u001b[0mnum\u001b[0m\u001b[0;34m)\u001b[0m\u001b[0;34m\u001b[0m\u001b[0;34m\u001b[0m\u001b[0m\n\u001b[1;32m      8\u001b[0m   \u001b[0mdet\u001b[0m\u001b[0;34m=\u001b[0m \u001b[0;32mFalse\u001b[0m \u001b[0;32mif\u001b[0m \u001b[0mnum\u001b[0m \u001b[0;34m==\u001b[0m \u001b[0;36m0\u001b[0m \u001b[0;32melse\u001b[0m \u001b[0mnum\u001b[0m\u001b[0;34m>\u001b[0m\u001b[0;36m0\u001b[0m\u001b[0;34m\u001b[0m\u001b[0;34m\u001b[0m\u001b[0m\n\u001b[0;32m----> 9\u001b[0;31m   \u001b[0mdes\u001b[0m\u001b[0;34m=\u001b[0m\u001b[0mfloat\u001b[0m\u001b[0;34m(\u001b[0m\u001b[0minput\u001b[0m\u001b[0;34m(\u001b[0m\u001b[0mprint\u001b[0m\u001b[0;34m(\u001b[0m\u001b[0;34m\"ingrese el descuento sin el %\"\u001b[0m\u001b[0;34m)\u001b[0m\u001b[0;34m)\u001b[0m\u001b[0;34m)\u001b[0m\u001b[0;34m\u001b[0m\u001b[0;34m\u001b[0m\u001b[0m\n\u001b[0m\u001b[1;32m     10\u001b[0m   \u001b[0mpresdes\u001b[0m\u001b[0;34m=\u001b[0m\u001b[0;34m[\u001b[0m\u001b[0mprecio\u001b[0m\u001b[0;34m*\u001b[0m\u001b[0mdes\u001b[0m\u001b[0;34m/\u001b[0m\u001b[0;36m100\u001b[0m \u001b[0;32mfor\u001b[0m \u001b[0mprecio\u001b[0m \u001b[0;32min\u001b[0m \u001b[0mprecios\u001b[0m\u001b[0;34m]\u001b[0m\u001b[0;34m\u001b[0m\u001b[0;34m\u001b[0m\u001b[0m\n\u001b[1;32m     11\u001b[0m   \u001b[0mpresdes\u001b[0m\u001b[0;34m.\u001b[0m\u001b[0mpop\u001b[0m\u001b[0;34m(\u001b[0m\u001b[0;34m-\u001b[0m\u001b[0;36m1\u001b[0m\u001b[0;34m)\u001b[0m\u001b[0;34m\u001b[0m\u001b[0;34m\u001b[0m\u001b[0m\n",
            "\u001b[0;32m/usr/local/lib/python3.7/dist-packages/ipykernel/kernelbase.py\u001b[0m in \u001b[0;36mraw_input\u001b[0;34m(self, prompt)\u001b[0m\n\u001b[1;32m    861\u001b[0m             \u001b[0mself\u001b[0m\u001b[0;34m.\u001b[0m\u001b[0m_parent_ident\u001b[0m\u001b[0;34m,\u001b[0m\u001b[0;34m\u001b[0m\u001b[0;34m\u001b[0m\u001b[0m\n\u001b[1;32m    862\u001b[0m             \u001b[0mself\u001b[0m\u001b[0;34m.\u001b[0m\u001b[0m_parent_header\u001b[0m\u001b[0;34m,\u001b[0m\u001b[0;34m\u001b[0m\u001b[0;34m\u001b[0m\u001b[0m\n\u001b[0;32m--> 863\u001b[0;31m             \u001b[0mpassword\u001b[0m\u001b[0;34m=\u001b[0m\u001b[0;32mFalse\u001b[0m\u001b[0;34m,\u001b[0m\u001b[0;34m\u001b[0m\u001b[0;34m\u001b[0m\u001b[0m\n\u001b[0m\u001b[1;32m    864\u001b[0m         )\n\u001b[1;32m    865\u001b[0m \u001b[0;34m\u001b[0m\u001b[0m\n",
            "\u001b[0;32m/usr/local/lib/python3.7/dist-packages/ipykernel/kernelbase.py\u001b[0m in \u001b[0;36m_input_request\u001b[0;34m(self, prompt, ident, parent, password)\u001b[0m\n\u001b[1;32m    902\u001b[0m             \u001b[0;32mexcept\u001b[0m \u001b[0mKeyboardInterrupt\u001b[0m\u001b[0;34m:\u001b[0m\u001b[0;34m\u001b[0m\u001b[0;34m\u001b[0m\u001b[0m\n\u001b[1;32m    903\u001b[0m                 \u001b[0;31m# re-raise KeyboardInterrupt, to truncate traceback\u001b[0m\u001b[0;34m\u001b[0m\u001b[0;34m\u001b[0m\u001b[0;34m\u001b[0m\u001b[0m\n\u001b[0;32m--> 904\u001b[0;31m                 \u001b[0;32mraise\u001b[0m \u001b[0mKeyboardInterrupt\u001b[0m\u001b[0;34m(\u001b[0m\u001b[0;34m\"Interrupted by user\"\u001b[0m\u001b[0;34m)\u001b[0m \u001b[0;32mfrom\u001b[0m \u001b[0;32mNone\u001b[0m\u001b[0;34m\u001b[0m\u001b[0;34m\u001b[0m\u001b[0m\n\u001b[0m\u001b[1;32m    905\u001b[0m             \u001b[0;32mexcept\u001b[0m \u001b[0mException\u001b[0m \u001b[0;32mas\u001b[0m \u001b[0me\u001b[0m\u001b[0;34m:\u001b[0m\u001b[0;34m\u001b[0m\u001b[0;34m\u001b[0m\u001b[0m\n\u001b[1;32m    906\u001b[0m                 \u001b[0mself\u001b[0m\u001b[0;34m.\u001b[0m\u001b[0mlog\u001b[0m\u001b[0;34m.\u001b[0m\u001b[0mwarning\u001b[0m\u001b[0;34m(\u001b[0m\u001b[0;34m\"Invalid Message:\"\u001b[0m\u001b[0;34m,\u001b[0m \u001b[0mexc_info\u001b[0m\u001b[0;34m=\u001b[0m\u001b[0;32mTrue\u001b[0m\u001b[0;34m)\u001b[0m\u001b[0;34m\u001b[0m\u001b[0;34m\u001b[0m\u001b[0m\n",
            "\u001b[0;31mKeyboardInterrupt\u001b[0m: Interrupted by user"
          ]
        }
      ]
    },
    {
      "cell_type": "code",
      "source": [
        "#Ejercicio Cristian\n",
        "num=[]\n",
        "for i in range(6):\n",
        "  num.append(int(input(\"Introduce el número ganador\")))\n",
        "num.sort()\n",
        "print(\"Los números ganadores del baloto son:\" + str(num))"
      ],
      "metadata": {
        "colab": {
          "base_uri": "https://localhost:8080/"
        },
        "id": "Msy9VTedHuSN",
        "outputId": "b8f16d45-1385-4527-afe2-9a952b27f25a"
      },
      "execution_count": null,
      "outputs": [
        {
          "output_type": "stream",
          "name": "stdout",
          "text": [
            "Introduce el número ganador9\n",
            "Introduce el número ganador5\n",
            "Introduce el número ganador6\n",
            "Introduce el número ganador4\n",
            "Introduce el número ganador2\n",
            "Introduce el número ganador4\n",
            "Los números ganadores del baloto son:[2, 4, 4, 5, 6, 9]\n"
          ]
        }
      ]
    },
    {
      "cell_type": "code",
      "source": [
        "#Ejercicio Julio\n",
        "#Normal\n",
        "n=int(input(\"ingresa el numero de palabras que vas a ingesar\"))\n",
        "x=0\n",
        "lista=[]\n",
        "lista1=[]\n",
        "for i in range(n):\n",
        "  l=input(\"ingresar una palabra \")\n",
        "  if l.isupper():lista.append(l)\n",
        "  if l.islower():lista1.append(l)\n",
        "\n"
      ],
      "metadata": {
        "colab": {
          "base_uri": "https://localhost:8080/"
        },
        "id": "CE3wcrw3xLMu",
        "outputId": "c31f3142-fcdf-4bf4-d6a0-93bf3447fd3a"
      },
      "execution_count": 7,
      "outputs": [
        {
          "name": "stdout",
          "output_type": "stream",
          "text": [
            "ingresa el numero de palabras que vas a ingesar2\n",
            "ingresar una palabra DIEGO\n",
            "ingresar una palabra diego\n"
          ]
        }
      ]
    },
    {
      "cell_type": "code",
      "source": [
        "lista"
      ],
      "metadata": {
        "colab": {
          "base_uri": "https://localhost:8080/"
        },
        "id": "b93Pl2bkz5Dw",
        "outputId": "b85f4eb8-d8e2-49b1-dfcf-5d38df3f2270"
      },
      "execution_count": 8,
      "outputs": [
        {
          "output_type": "execute_result",
          "data": {
            "text/plain": [
              "['DIEGO']"
            ]
          },
          "metadata": {},
          "execution_count": 8
        }
      ]
    },
    {
      "cell_type": "code",
      "source": [
        "lista1"
      ],
      "metadata": {
        "colab": {
          "base_uri": "https://localhost:8080/"
        },
        "id": "uWjKlHJKz8zf",
        "outputId": "377ff130-892c-4335-c422-aff13f8c5b22"
      },
      "execution_count": 9,
      "outputs": [
        {
          "output_type": "execute_result",
          "data": {
            "text/plain": [
              "['diego']"
            ]
          },
          "metadata": {},
          "execution_count": 9
        }
      ]
    },
    {
      "cell_type": "code",
      "source": [
        "#Comprension\n",
        "n=int(input(\"ingresa el numero de palabras que vas a ingesar\"))\n",
        "lista3=[]\n",
        "for i in range(n):\n",
        "  l=input(\"ingresar una palabra \")\n",
        "  lista3.append(l)\n",
        "\n",
        "lista_comprimida_M=[elemento for elemento in lista3 if elemento.isupper()]\n",
        "lista_comprimida_m=[elemento for elemento in lista3 if elemento.islower()]\n",
        "\n",
        "print(\"La palabras escritas en mayuscula son: \")\n",
        "print(lista_comprimida_M)\n",
        "print(\"La palabras escritas en minuscula son: \")\n",
        "print(lista_comprimida_m)"
      ],
      "metadata": {
        "colab": {
          "base_uri": "https://localhost:8080/"
        },
        "id": "xh5edrww1Brz",
        "outputId": "fa8b9424-0264-4dd1-e574-960325756173"
      },
      "execution_count": 16,
      "outputs": [
        {
          "output_type": "stream",
          "name": "stdout",
          "text": [
            "ingresa el numero de palabras que vas a ingesar3\n",
            "ingresar una palabra DIEGO\n",
            "ingresar una palabra DIEG\n",
            "ingresar una palabra oindf\n",
            "La palabras escritas en mayuscula son: \n",
            "['DIEGO', 'DIEG']\n",
            "La palabras escritas en minuscula son: \n",
            "['oindf']\n"
          ]
        }
      ]
    },
    {
      "cell_type": "code",
      "source": [
        "#lambda\n",
        "lista_comprimida_M=list((map(lambda elemento:True if elemento.isupper() else False, lista3)))\n",
        "lista_comprimida_m=list((map(lambda elemento:True if elemento.islower() else False, lista3)))\n",
        "\n",
        "print(\"La palabras escritas en mayuscula son: \")\n",
        "print(lista_comprimida_M)\n",
        "print(\"La palabras escritas en minuscula son: \")\n",
        "print(lista_comprimida_m)"
      ],
      "metadata": {
        "colab": {
          "base_uri": "https://localhost:8080/"
        },
        "id": "qKPz5X0I3LRT",
        "outputId": "d0720980-6c1c-4b0e-fb93-8b376321607f"
      },
      "execution_count": 17,
      "outputs": [
        {
          "output_type": "stream",
          "name": "stdout",
          "text": [
            "La palabras escritas en mayuscula son: \n",
            "[True, True, False]\n",
            "La palabras escritas en minuscula son: \n",
            "[False, False, True]\n"
          ]
        }
      ]
    },
    {
      "cell_type": "code",
      "source": [
        "#Ejercicio Karina                                 \n",
        "#Normal\n",
        "def pali(word):\n",
        "  rev=word[::-1]\n",
        "  return word==rev\n",
        "word=(input(\"Digita una palabra\")).lower()\n",
        "final=pali(word)\n",
        "if final == True:\n",
        "  print(f\"{word} es una palabra palíndromo\")\n",
        "else:\n",
        "  print(f\"{word} es una palabra no palíndromo\")"
      ],
      "metadata": {
        "colab": {
          "base_uri": "https://localhost:8080/"
        },
        "id": "L-xLSsKE5lKf",
        "outputId": "f967b051-796f-4439-9154-15a74207c07c"
      },
      "execution_count": 21,
      "outputs": [
        {
          "output_type": "stream",
          "name": "stdout",
          "text": [
            "Digita una palabra ojo \n",
            " ojo  es una palabra palíndromo\n"
          ]
        }
      ]
    },
    {
      "cell_type": "code",
      "source": [
        "c=int(input(\"Digita la cantidad de elementos que deseas ingresar: \"))\n",
        "lista1=[]\n",
        "for i in range(c):\n",
        "  word=str(input(\"elemento: \")).lower()\n",
        "  lista1.append(word)\n",
        "print(lista1)\n",
        "lista2=list((map(lambda x:True if x==x[::-1] else False, lista1))) \n",
        "lista2"
      ],
      "metadata": {
        "colab": {
          "base_uri": "https://localhost:8080/"
        },
        "id": "x4b-t63U9_M3",
        "outputId": "f1e89a9f-4961-4230-a5c4-d6295c4fc4f4"
      },
      "execution_count": 32,
      "outputs": [
        {
          "output_type": "stream",
          "name": "stdout",
          "text": [
            "Digita la cantidad de elementos que deseas ingresar: 2\n",
            "Escribe aquí: ana\n",
            "Escribe aquí: Diego\n",
            "['ana', 'diego']\n"
          ]
        },
        {
          "output_type": "execute_result",
          "data": {
            "text/plain": [
              "[True, False]"
            ]
          },
          "metadata": {},
          "execution_count": 32
        }
      ]
    },
    {
      "cell_type": "code",
      "source": [
        "#Ejercico Daniel \n",
        "#Tradicional\n",
        "import random\n",
        "stock=[\"martillo\",\"alicate\",\"clavo\",\"perno\"]\n",
        "cality=[\"GOOD\",\"FAIL\"]\n",
        "a=[]\n",
        "for i in stock:\n",
        "  a.append((i, random.choice(cality)))\n",
        "listg=[]\n",
        "listf=[]\n",
        "for x in a:\n",
        "  if \"GOOD\" in x:\n",
        "    listg.append(x)\n",
        "  elif \"FAIL\" in x:\n",
        "    listf.append(x)\n",
        "print(listf)\n",
        "print(listg)"
      ],
      "metadata": {
        "colab": {
          "base_uri": "https://localhost:8080/"
        },
        "id": "s7fhXy5K_hB7",
        "outputId": "810267ae-b2c1-416e-965d-0681269b4e24"
      },
      "execution_count": 33,
      "outputs": [
        {
          "output_type": "stream",
          "name": "stdout",
          "text": [
            "[('alicate', 'FAIL')]\n",
            "[('martillo', 'GOOD'), ('clavo', 'GOOD'), ('perno', 'GOOD')]\n"
          ]
        }
      ]
    },
    {
      "cell_type": "code",
      "source": [
        "#Comprension\n",
        "import random\n",
        "stock=[\"martillo\",\"alicate\",\"clavo\",\"perno\"]\n",
        "cality=[\"GOOD\",\"FAIL\"]\n",
        "a=[]\n",
        "for i in stock:\n",
        "  a.append((i, random.choice(cality)))\n",
        "listg=[]\n",
        "listf=[]\n",
        "listg=[x for x in a if \"GOOD\" in x]\n",
        "listf=[x for x in a if \"FAIL\" in x]\n",
        "print(listf,listg)"
      ],
      "metadata": {
        "colab": {
          "base_uri": "https://localhost:8080/"
        },
        "id": "cE8eC4c-DwuY",
        "outputId": "5645bbec-83ba-4953-ede3-110ae7e72b6f"
      },
      "execution_count": 35,
      "outputs": [
        {
          "output_type": "stream",
          "name": "stdout",
          "text": [
            "[('alicate', 'FAIL'), ('clavo', 'FAIL'), ('perno', 'FAIL')] [('martillo', 'GOOD')]\n"
          ]
        }
      ]
    },
    {
      "cell_type": "code",
      "source": [
        "#Ejercico de Paula\n",
        "def capitalizar(oracion):\n",
        "  lista1=[]\n",
        "  for l in n1:\n",
        "   lista1.append(l)\n",
        "   lista1[0]=n1[0].upper()\n",
        "\n",
        "  print(\"\".join(lista1))\n"
      ],
      "metadata": {
        "id": "r6UTMr5AGg_s"
      },
      "execution_count": 41,
      "outputs": []
    },
    {
      "cell_type": "code",
      "source": [
        "n1=input(\"ingresa una oración\")\n",
        "oracion=capitalizar(n1)\n",
        "oracion"
      ],
      "metadata": {
        "colab": {
          "base_uri": "https://localhost:8080/"
        },
        "id": "MvXqvXGvH9yX",
        "outputId": "5b314e15-cc36-4ac4-8d10-1847601c7a2b"
      },
      "execution_count": 43,
      "outputs": [
        {
          "output_type": "stream",
          "name": "stdout",
          "text": [
            "ingresa una oración hola carambola\n",
            " hola carambola\n"
          ]
        }
      ]
    },
    {
      "cell_type": "code",
      "source": [
        "#Ejercicio Franscisco \n",
        "import random\n",
        "palabras=[\"a\",\"e\",\"i\",\"o\",\"u\"]\n",
        "número=[1,2,3,4,5,6,7,8,9]\n",
        "generador=[]\n",
        "for i in range(0,5):\n",
        "  generador.append(random.choice(palabras))\n",
        "  generador.append(random.choice(número))\n",
        "print(generador)"
      ],
      "metadata": {
        "colab": {
          "base_uri": "https://localhost:8080/"
        },
        "id": "tmSnG4SfI_oF",
        "outputId": "90ab4e5f-8f0b-4c68-b82f-f3f951562e69"
      },
      "execution_count": 45,
      "outputs": [
        {
          "output_type": "stream",
          "name": "stdout",
          "text": [
            "['a', 3, 'o', 3, 'i', 9, 'e', 5, 'a', 2]\n"
          ]
        }
      ]
    },
    {
      "cell_type": "code",
      "source": [
        "#Comprension\n",
        "import random\n",
        "x=input(\"Ingrese la palabra de la contraseña \")\n",
        "palabras=[letra for letra in x]\n",
        "numeros2=[num for num in range(0,10)]\n",
        "generador=[random.choice(palabras) or random.choice(numeros2) for num in range(0,11)]\n",
        "print(generador)\n"
      ],
      "metadata": {
        "colab": {
          "base_uri": "https://localhost:8080/"
        },
        "id": "E2hPLY5JMGfk",
        "outputId": "9fae3648-cc0d-492e-b7c3-b83ae9fc531a"
      },
      "execution_count": 47,
      "outputs": [
        {
          "output_type": "stream",
          "name": "stdout",
          "text": [
            "Ingrese la palabra de la contraseña slrg\n",
            "['r', 's', 'r', 's', 'l', 'r', 'g', 'r', 's', 's', 'l']\n"
          ]
        }
      ]
    },
    {
      "cell_type": "code",
      "source": [
        "x=input(\"Ingrese la palabra de la contraseña: \")\n",
        "palabras=[letra for letra in x]\n",
        "números2=[num for num in range (0,10)]\n",
        "generador2=[random.choice(list(map(lambda x:x, números2))) or random.choice(sorted(palabras, key= lambda letra: letra in palabras))for num in range(0,11)]\n",
        "print(generador2)"
      ],
      "metadata": {
        "colab": {
          "base_uri": "https://localhost:8080/"
        },
        "id": "4_3A4k7gMGv0",
        "outputId": "5ec12f03-a539-483e-ee04-095eb58639b8"
      },
      "execution_count": 49,
      "outputs": [
        {
          "output_type": "stream",
          "name": "stdout",
          "text": [
            "Ingrese la palabra de la contraseña: bfgg\n",
            "[9, 3, 3, 7, 1, 3, 8, 7, 6, 7, 3]\n"
          ]
        }
      ]
    },
    {
      "cell_type": "code",
      "source": [
        "#Ejercicio Ana\n",
        "#normal\n",
        "print(\"¡Hola! Soy Lucía del sistema de asignación de turnos para pasaporte de la Gobernación \\n Solo las personas mayores de edad tendrán su cita mañana en el rango de 6am a 12 pm \\n y los menores de edad la tendrán en el rango de 2pm a 6pm \\n \" )\n",
        "lista1=[('Pedro',33),('Ana',3),('Juan',13),('Carla',45)]\n",
        "lista2=[]\n",
        "lista3=[]\n",
        "for elemento in lista1:\n",
        "  if elemento[1]>=18:\n",
        "    lista2.append(elemento)\n",
        "print(f'{lista2} tendrán la cita a las 8am y 10am respectivamente')\n",
        "\n",
        "for elemento in lista1:\n",
        "  if elemento[1]<18:\n",
        "    lista3.append(elemento)\n",
        "print(f'{lista3} tendrán la cita a las 2pm y 4pm respectivamente')"
      ],
      "metadata": {
        "colab": {
          "base_uri": "https://localhost:8080/"
        },
        "id": "taAiVl7gQFX6",
        "outputId": "adca6bfd-07d8-4dbb-a097-7e250e721d1a"
      },
      "execution_count": 51,
      "outputs": [
        {
          "output_type": "stream",
          "name": "stdout",
          "text": [
            "¡Hola! Soy Lucía del sistema de asignación de turnos para pasaporte de la Gobernación \n",
            " Solo las personas mayores de edad tendrán su cita mañana en el rango de 6am a 12 pm \n",
            " y los menores de edad la tendrán en el rango de 2pm a 6pm \n",
            " \n",
            "[('Pedro', 33), ('Carla', 45)] tendrán la cita a las 8am y 10am respectivamente\n",
            "[('Ana', 3), ('Juan', 13)] tendrán la cita a las 2pm y 4pm respectivamente\n"
          ]
        }
      ]
    },
    {
      "cell_type": "code",
      "source": [
        "#compresión\n",
        "print(\"¡Hola! Soy Lucía del sistema de asignación de turnos para pasaporte de la Gobernación \\n Solo las personas mayores de edad tendrán su cita mañana en el rango de 6am a 12 pm \\n y los menores de edad la tendrán en el rango de 2pm a 6pm \\n \" )\n",
        "personas=[('Pedro',33),('Ana',3),('Juan',13),('Carla',45)]\n",
        "\n",
        "\n",
        "personas_mayores=[per for per in personas if per[1]>=18]\n",
        "print(f'{personas_mayores} tendrán la cita a las 8am y 10am respectivamente')\n",
        "\n",
        "personas_menores=[per for per in personas if per[1]<18]\n",
        "print(f'{personas_menores} tendrán la cita a las 2pm y 4pm respectivamente')"
      ],
      "metadata": {
        "colab": {
          "base_uri": "https://localhost:8080/"
        },
        "id": "eqJdjZSwQHy6",
        "outputId": "42460f7a-5ce7-45fc-ca46-ca1391970982"
      },
      "execution_count": 52,
      "outputs": [
        {
          "output_type": "stream",
          "name": "stdout",
          "text": [
            "¡Hola! Soy Lucía del sistema de asignación de turnos para pasaporte de la Gobernación \n",
            " Solo las personas mayores de edad tendrán su cita mañana en el rango de 6am a 12 pm \n",
            " y los menores de edad la tendrán en el rango de 2pm a 6pm \n",
            " \n",
            "[('Pedro', 33), ('Carla', 45)] tendrán la cita a las 8am y 10am respectivamente\n",
            "[('Ana', 3), ('Juan', 13)] tendrán la cita a las 2pm y 4pm respectivamente\n"
          ]
        }
      ]
    },
    {
      "cell_type": "code",
      "source": [
        "#lambda\n",
        "print(\"¡Hola! Soy Lucía del sistema de asignación de turnos para pasaporte de la Gobernación \\n Solo las personas mayores de edad tendrán su cita mañana en el rango de 6am a 12 pm \\n y los menores de edad la tendrán en el rango de 2pm a 6pm \\n \" )\n",
        "personas=[('Pedro',33),('Ana',3),('Juan',13),('Carla',45)]\n",
        "perma=list(filter(lambda may: may[1]>=18,personas ))\n",
        "perma\n",
        "print(f'{perma} tendrán la cita a las 8am y 10am respectivamente')\n",
        "\n",
        "perme=list(filter(lambda men: men[1]<18,personas ))\n",
        "perme\n",
        "print(f'{perme} tendrán la cita a las 2pm y 4pm respectivamente')"
      ],
      "metadata": {
        "colab": {
          "base_uri": "https://localhost:8080/"
        },
        "id": "_u03BxgTQNNZ",
        "outputId": "198ed9a0-558f-482b-ef7b-e0e64cf37421"
      },
      "execution_count": 53,
      "outputs": [
        {
          "output_type": "stream",
          "name": "stdout",
          "text": [
            "¡Hola! Soy Lucía del sistema de asignación de turnos para pasaporte de la Gobernación \n",
            " Solo las personas mayores de edad tendrán su cita mañana en el rango de 6am a 12 pm \n",
            " y los menores de edad la tendrán en el rango de 2pm a 6pm \n",
            " \n",
            "[('Pedro', 33), ('Carla', 45)] tendrán la cita a las 8am y 10am respectivamente\n",
            "[('Ana', 3), ('Juan', 13)] tendrán la cita a las 2pm y 4pm respectivamente\n"
          ]
        }
      ]
    }
  ]
}