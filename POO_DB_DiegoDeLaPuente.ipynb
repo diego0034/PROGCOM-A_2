{
  "nbformat": 4,
  "nbformat_minor": 0,
  "metadata": {
    "colab": {
      "provenance": []
    },
    "kernelspec": {
      "name": "python3",
      "display_name": "Python 3"
    },
    "language_info": {
      "name": "python"
    }
  },
  "cells": [
    {
      "cell_type": "code",
      "source": [
        "class Sayayin():\n",
        "  def __init__(self, nombre, cabello, ojos, fuerza,estatura,cola_de_mono):\n",
        "    self._nombre=nombre\n",
        "    self._cabello=\"Negro\"\n",
        "    self._ojos=\"Negro\"\n",
        "    self.__fuerza=fuerza\n",
        "    self._estatura=estatura\n",
        "    self._cola_de_mono=True\n",
        "\n",
        "  def color_cabello(self,fuerza_base):\n",
        "    fuerzat=90000\n",
        "    if fuerza_base*10>=fuerzat:\n",
        "       print(\"Alcanza nivel sayayin fase 1\")\n",
        "       self.cabello=\"rubio\"\n",
        "\n",
        "    elif fuerza_base*20>=fuerzat*20:\n",
        "       print(\"Alcanza nivel sayayin fase 2\")\n",
        "       self.cabello=\"rubio\"\n",
        "\n",
        "    elif fuerza_base*1000>=fuerzat*1000:\n",
        "       print(\"Alcanza nivel sayayin fase 4\")\n",
        "       self.cabello=\"negro\"\n",
        "       if self.cola_de_mono==False:\n",
        "         self.cola_de_mono=True\n",
        "    else:\n",
        "      print(\"Alcanza nivel sayayin ultraintinto\")\n",
        "      self.cabello=\"cenizo\"\n",
        "\n",
        "  def trabajo(self,trabajo):\n",
        "    if trabajo==1:\n",
        "      print(f\"{self.nombre} es de tipo guerrero\")\n",
        "    elif trabajo==2:\n",
        "      print(f\"{self.nombre} es de tipo liendra de freezer\")\n",
        "    elif trabajo==3:\n",
        "      print(f\"{self.nombre} es de tipo mercenarios\")\n",
        "    else:\n",
        "      print(f\"{self.nombre} es de la realeza\")\n",
        "\n",
        "  def luna(self,luna):\n",
        "    if self.cola and luna==\"luna llena\":\n",
        "      print(self.nombre,\" se convierte en ozaru\")\n",
        "      self.fuerza=self.fuerza*50\n",
        "    else:\n",
        "      print(self.nombre, \"no se transforma en na\")\n"
      ],
      "metadata": {
        "id": "rdH7ekNoKIvW"
      },
      "execution_count": null,
      "outputs": []
    },
    {
      "cell_type": "code",
      "source": [
        "class Humano():\n",
        "  def __init__(self, nombre, cabello, ojos, fuerza,estatura):\n",
        "    self.nombre=nombre\n",
        "    self.cabello=cabello\n",
        "    self.ojos=ojos\n",
        "    self.fuerza=fuerza\n",
        "    self.estatura=estatura\n",
        "\n",
        "  def color_cabello(self,tinte):\n",
        "    if tinte==0:\n",
        "      print(self.nombre ,\"te has decolorado su cabello\")\n",
        "      self.cabello=\"amarillo\"\n",
        "    elif tinte==2:\n",
        "      print(self.nombre ,\"ha colorado su cabello de lila\")\n",
        "      self.cabello=\"lila\"\n",
        "    elif tinte==3:\n",
        "      print(self.nombre ,\"ha colorado su cabello nuez\")\n",
        "      self.cabello=\"nuez\"\n",
        "    else:\n",
        "      print(self.nombre ,\"ha colorado su cabello canoso\")\n",
        "      self.cabello=\"canoso\"\n",
        "\n",
        "  def trabajo(self,trabajo):\n",
        "    if trabajo==1:\n",
        "      print(f\"{self.nombre} trabaja como callcenter\")\n",
        "    elif trabajo==2:\n",
        "      print(f\"{self.nombre} trabaja como vendedor de bonice\")\n",
        "    elif trabajo==3:\n",
        "      print(f\"{self.nombre} trabaja como tombo\")\n",
        "    elif trabajo==4:\n",
        "      print(f\"{self.nombre} trabaja como programador de python\")\n",
        "    else:\n",
        "      print(f\"{self.nombre} trabaja como nani\")"
      ],
      "metadata": {
        "id": "JMVMowdHOBlg"
      },
      "execution_count": null,
      "outputs": []
    },
    {
      "cell_type": "code",
      "source": [
        "class Hibrido(Humano,Sayayin):\n",
        "  pass"
      ],
      "metadata": {
        "id": "NBRq2fKlOcAO"
      },
      "execution_count": null,
      "outputs": []
    },
    {
      "cell_type": "code",
      "source": [
        "goku=Sayayin(\"Kakaroto\", \"arcoíris\", \"verde-dorado\" , 100, 50, True)\n",
        "goku.__dict__"
      ],
      "metadata": {
        "colab": {
          "base_uri": "https://localhost:8080/"
        },
        "id": "Y94k44SWSoya",
        "outputId": "c8144c03-07a0-408f-ab33-434ebf288013"
      },
      "execution_count": null,
      "outputs": [
        {
          "output_type": "execute_result",
          "data": {
            "text/plain": [
              "{'_nombre': 'Kakaroto',\n",
              " '_cabello': 'Negro',\n",
              " '_ojos': 'Negro',\n",
              " '_Sayayin__fuerza': 100,\n",
              " '_estatura': 50,\n",
              " '_cola_de_mono': True}"
            ]
          },
          "metadata": {},
          "execution_count": 59
        }
      ]
    },
    {
      "cell_type": "code",
      "source": [
        "goku.__fuerza=500000"
      ],
      "metadata": {
        "id": "_CJstTtoTuk8"
      },
      "execution_count": null,
      "outputs": []
    },
    {
      "cell_type": "code",
      "source": [
        "goku.__dict__"
      ],
      "metadata": {
        "colab": {
          "base_uri": "https://localhost:8080/"
        },
        "id": "1Z6t4TJET2WK",
        "outputId": "6e581ade-bb2e-41f9-819d-792c90298aef"
      },
      "execution_count": null,
      "outputs": [
        {
          "output_type": "execute_result",
          "data": {
            "text/plain": [
              "{'_nombre': 'Kakaroto',\n",
              " '_cabello': 'Negro',\n",
              " '_ojos': 'Negro',\n",
              " '_Sayayin__fuerza': 100,\n",
              " '_estatura': 50,\n",
              " '_cola_de_mono': True,\n",
              " '__fuerza': 500000}"
            ]
          },
          "metadata": {},
          "execution_count": 49
        }
      ]
    },
    {
      "cell_type": "code",
      "source": [
        "goku.ojos=\"azul\""
      ],
      "metadata": {
        "id": "z860mFEdUFcy"
      },
      "execution_count": null,
      "outputs": []
    },
    {
      "cell_type": "code",
      "source": [
        "goku.__dict__"
      ],
      "metadata": {
        "colab": {
          "base_uri": "https://localhost:8080/"
        },
        "id": "u2IN7xsYUKI6",
        "outputId": "9e60063a-df39-40f2-8894-9349904e2d30"
      },
      "execution_count": null,
      "outputs": [
        {
          "output_type": "execute_result",
          "data": {
            "text/plain": [
              "{'_nombre': 'Kakaroto',\n",
              " '_cabello': 'Negro',\n",
              " '_ojos': 'Negro',\n",
              " '_Sayayin__fuerza': 100,\n",
              " '_estatura': 50,\n",
              " '_cola_de_mono': True,\n",
              " '__fuerza': 500000,\n",
              " 'ojos': 'azul'}"
            ]
          },
          "metadata": {},
          "execution_count": 51
        }
      ]
    },
    {
      "cell_type": "code",
      "source": [
        "milk=Humano(\"Milk\",\"negros\",\"negro\",100,50)\n"
      ],
      "metadata": {
        "id": "L5b3H-OGTHCL"
      },
      "execution_count": null,
      "outputs": []
    },
    {
      "cell_type": "code",
      "source": [
        "gohan=Hibrido(\"Gohan\",\"negro\",\"aguamarina\",1000,50)"
      ],
      "metadata": {
        "id": "DXHXZhyvV9Fx"
      },
      "execution_count": null,
      "outputs": []
    },
    {
      "cell_type": "code",
      "source": [
        "gohan.__dict__"
      ],
      "metadata": {
        "colab": {
          "base_uri": "https://localhost:8080/"
        },
        "id": "-gGu4ydAX5JV",
        "outputId": "b1a478a4-dc86-4b94-ac07-78f793f202b6"
      },
      "execution_count": null,
      "outputs": [
        {
          "output_type": "execute_result",
          "data": {
            "text/plain": [
              "{'nombre': 'Gohan',\n",
              " 'cabello': 'negro',\n",
              " 'ojos': 'aguamarina',\n",
              " 'fuerza': 1000,\n",
              " 'estatura': 50}"
            ]
          },
          "metadata": {},
          "execution_count": 69
        }
      ]
    }
  ]
}