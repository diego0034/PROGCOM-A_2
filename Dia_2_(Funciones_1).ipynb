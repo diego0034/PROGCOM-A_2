{
  "nbformat": 4,
  "nbformat_minor": 0,
  "metadata": {
    "colab": {
      "provenance": []
    },
    "kernelspec": {
      "name": "python3",
      "display_name": "Python 3"
    },
    "language_info": {
      "name": "python"
    }
  },
  "cells": [
    {
      "cell_type": "markdown",
      "source": [
        "#FUNCIONES\n",
        "Estructura\n",
        "- def (nombre cualquiera)(parámetros o argumentos):\n",
        "     \n",
        "     lo que va a hacer la función\n",
        "    "
      ],
      "metadata": {
        "id": "JnNrD3RQ0gqg"
      }
    },
    {
      "cell_type": "markdown",
      "source": [
        "\n",
        "  1. Sin parámetro, sin retorno\n",
        "   def manuel():\n",
        "    print(\"Tome sus 5\")\n",
        "\n",
        "  2. Sin parámetro, con retorno\n",
        "   def nicolas():\n",
        "    a=5\n",
        "    \n",
        "    return a //EL RETORNO\n",
        "\n",
        "  3. Con parámetro, sin retorno\n",
        "   def nicolas(a,\"b\", x=false) //3 parametros dentro de los parentesis\n",
        "    int a\n",
        "    b=string\n",
        "    x=boolean\n",
        "    print (\"Hola nicolas)\n",
        "  4. Con parametro, con retorno\n",
        "  def nicolas(a,\"b\", x=false) //3 parametros dentro de los parentesis\n",
        "    int a\n",
        "    b=string\n",
        "    x=boolean\n",
        "    print (\"Hola nicolas)\n",
        "\n",
        "    return a //EL RETORNO\n"
      ],
      "metadata": {
        "id": "xLKeSHZZ1lIy"
      }
    },
    {
      "cell_type": "markdown",
      "source": [
        "1- SIN PARÁMETRO, SIN RETORNO"
      ],
      "metadata": {
        "id": "DUbDrWsT34pF"
      }
    },
    {
      "cell_type": "code",
      "execution_count": 3,
      "metadata": {
        "id": "eXCQxT2khY-R"
      },
      "outputs": [],
      "source": [
        "def salude():\n",
        "  print(\"hola \")\n",
        "  print(\"hola2\")"
      ]
    },
    {
      "cell_type": "code",
      "source": [
        "salude()"
      ],
      "metadata": {
        "colab": {
          "base_uri": "https://localhost:8080/"
        },
        "id": "V_Mmmxup4lGv",
        "outputId": "a626ad06-c556-4b7a-d318-13b3e071ef10"
      },
      "execution_count": 4,
      "outputs": [
        {
          "output_type": "stream",
          "name": "stdout",
          "text": [
            "hola \n",
            "hola2\n"
          ]
        }
      ]
    },
    {
      "cell_type": "code",
      "source": [
        "a=int(input(\"Ingrese un número \"))\n",
        "b=int(input(\"Ingrese un número \"))\n",
        "c=int(input(\"Ingrese un número \"))\n",
        "\n",
        "if a!=b and a!=c and b!=c:\n",
        "  if a>b and a>c:\n",
        "    if b>c:\n",
        "      print(a, \"es el mayor \", b , \" el del medio \", c , \" es el menor.\" )\n",
        "    else:\n",
        "      print(a, \"es el mayor \", c , \" el del medio \", b , \" es el menor.\" )\n",
        "\n",
        "  if b>a and b>c:\n",
        "    if a>c:\n",
        "      print(b, \"es el mayor \", a , \" el del medio \", c , \" es el menor.\" )\n",
        "    else:\n",
        "      print(b, \"es el mayor \", c , \" el del medio \", a , \" es el menor.\" )\n",
        "\n",
        "  if c>a and c>b:\n",
        "    if a>b:\n",
        "      print(c, \"es el mayor \", a , \" el del medio \", b , \" es el menor.\" )\n",
        "    else:\n",
        "      print(c, \"es el mayor \", b , \" el del medio \", a , \" es el menor.\" )\n",
        "else:\n",
        " print(\"no se pude hacer el cálculo\")"
      ],
      "metadata": {
        "colab": {
          "base_uri": "https://localhost:8080/"
        },
        "id": "e8EllLJ049qv",
        "outputId": "b12a60ab-1bdd-45ba-cc9d-d07a51327855"
      },
      "execution_count": 14,
      "outputs": [
        {
          "output_type": "stream",
          "name": "stdout",
          "text": [
            "Ingrese un numero 8\n",
            "Ingrese un numero 5\n",
            "Ingrese un numero 6\n",
            "8 es el mayor  6  el del medio  5  es el menor.\n"
          ]
        }
      ]
    },
    {
      "cell_type": "code",
      "source": [
        "#funcion sin parámetro con retorno\n",
        "def imprimir(a,b,c):\n",
        " print(a, \"es el mayor \", b , \" el del medio \", c , \" es el menor.\" )"
      ],
      "metadata": {
        "id": "kUmq2Sp36ytA"
      },
      "execution_count": 33,
      "outputs": []
    },
    {
      "cell_type": "code",
      "source": [
        "def comparar(a,b,c):\n",
        " if a!=b and a!=c and b!=c:\n",
        "   if a>b and a>c:\n",
        "     if b>c:\n",
        "       imprimir(a,b,c)\n",
        "     else:\n",
        "       imprimir(a,c,b)\n",
        "\n",
        "   if b>a and b>c:\n",
        "     if a>c:\n",
        "       imprimir(b,a,c)\n",
        "     else:\n",
        "       imprimir(b,c,a)\n",
        "\n",
        "   if c>a and c>b: \n",
        "     if a>b:\n",
        "       imprimir(c,a,b)\n",
        "     else:\n",
        "       imprimir(c,b,a)\n",
        " else:\n",
        "  print(\"No se puede \")"
      ],
      "metadata": {
        "id": "vdH7_BBjAuUv"
      },
      "execution_count": 37,
      "outputs": []
    },
    {
      "cell_type": "code",
      "source": [
        "a=int(input(\"Ingrese un número \"))\n",
        "b=int(input(\"Ingrese un número \"))\n",
        "c=int(input(\"Ingrese un número \"))\n",
        " \n",
        "comparar(a,b,c)\n"
      ],
      "metadata": {
        "colab": {
          "base_uri": "https://localhost:8080/"
        },
        "id": "KjlfSs0X7pv4",
        "outputId": "86df526f-db00-41b6-874a-abc740a149a9"
      },
      "execution_count": 40,
      "outputs": [
        {
          "output_type": "stream",
          "name": "stdout",
          "text": [
            "Ingrese un numero 4\n",
            "Ingrese un numero 2\n",
            "Ingrese un numero 5\n",
            "5 es el mayor  4  el del medio  2  es el menor.\n"
          ]
        }
      ]
    },
    {
      "cell_type": "markdown",
      "source": [
        "#EJERCICIO DE FUNCIONES ENTERO, DECIMALES y CONSONANTES (con Angelieth)"
      ],
      "metadata": {
        "id": "HdXnYTg4JTC7"
      }
    },
    {
      "cell_type": "code",
      "source": [
        "def que_es(w):\n",
        " if type(w)==int:\n",
        "   print(\"Es un número\")\n",
        " elif type(w)==str and (w==\"a\" or w==\"e\" or w==\"i\" or w==\"o\" or w==\"u\"):\n",
        "   print(w , \"Es una vocal\")\n",
        " elif type(w)==str:\n",
        "   print(w, \"es una consonante\")\n",
        " else: \n",
        "  print(\"No es ni número, ni consonante, ni vocal\")"
      ],
      "metadata": {
        "id": "ELjKLFFOC0wo"
      },
      "execution_count": 81,
      "outputs": []
    },
    {
      "cell_type": "code",
      "source": [
        "w=input(\"Escribe un numero\")\n",
        "que_es(w)"
      ],
      "metadata": {
        "colab": {
          "base_uri": "https://localhost:8080/"
        },
        "id": "GklU8N2uC3xQ",
        "outputId": "9a4202fd-ec27-40e7-9fae-c7d5528e4604"
      },
      "execution_count": 83,
      "outputs": [
        {
          "output_type": "stream",
          "name": "stdout",
          "text": [
            "Escribe un numeroc\n",
            "c es una consonante\n"
          ]
        }
      ]
    }
  ]
}